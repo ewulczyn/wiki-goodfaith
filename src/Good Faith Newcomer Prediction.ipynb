{
 "cells": [
  {
   "cell_type": "markdown",
   "metadata": {},
   "source": [
    "# Good Faith Newcomer Prediction"
   ]
  },
  {
   "cell_type": "markdown",
   "metadata": {},
   "source": [
    "Aaron has a labeled dataset of newcomers to English Wikipedia. Newcomers are labeled as good-faith or bad-faith based on Wikipedians' judgements of the newcomers' edits in their first edit session. Aaron used STiki scores to construct a bayesian prediction model of good-faith newcomers. In this notebook, I'll try to reproduce his results using ORES scores as well as try out some other modeling strategies. The data for this notebook comes from the \"Get Newcomer Data\" notebook."
   ]
  },
  {
   "cell_type": "code",
   "execution_count": 1,
   "metadata": {
    "collapsed": true
   },
   "outputs": [],
   "source": [
    "% matplotlib inline\n",
    "import pandas as pd\n",
    "from scipy.stats import beta\n",
    "import numpy as np\n",
    "from sklearn.metrics import roc_auc_score\n",
    "import datetime\n",
    "import matplotlib.pyplot as plt \n",
    "from math import log, factorial, exp\n",
    "import os"
   ]
  },
  {
   "cell_type": "markdown",
   "metadata": {},
   "source": [
    "### Load newcomer labels and revisions"
   ]
  },
  {
   "cell_type": "code",
   "execution_count": 2,
   "metadata": {
    "collapsed": true
   },
   "outputs": [],
   "source": [
    "labels_df = pd.read_csv('../data/newcomer_labels.csv')\n",
    "revisions_df = pd.read_csv('../data/newcomer_revisions.csv')"
   ]
  },
  {
   "cell_type": "code",
   "execution_count": 3,
   "metadata": {
    "collapsed": false
   },
   "outputs": [
    {
     "name": "stdout",
     "output_type": "stream",
     "text": [
      "# labeled newcomers:  1063\n"
     ]
    }
   ],
   "source": [
    "print(\"# labeled newcomers: \", labels_df.shape[0])"
   ]
  },
  {
   "cell_type": "code",
   "execution_count": 4,
   "metadata": {
    "collapsed": false
   },
   "outputs": [
    {
     "name": "stdout",
     "output_type": "stream",
     "text": [
      "# newcomers for which we have ORES scored revisions:  955\n"
     ]
    }
   ],
   "source": [
    "print(\"# newcomers for which we have ORES scored revisions: \", len(revisions_df['userid'].unique()))"
   ]
  },
  {
   "cell_type": "code",
   "execution_count": 5,
   "metadata": {
    "collapsed": false
   },
   "outputs": [],
   "source": [
    "revisions_df = revisions_df.merge(labels_df, left_on = 'userid', right_on = 'user_id')\n",
    "del revisions_df['userid']"
   ]
  },
  {
   "cell_type": "code",
   "execution_count": 6,
   "metadata": {
    "collapsed": false
   },
   "outputs": [
    {
     "data": {
      "text/plain": [
       "True     875\n",
       "False    188\n",
       "Name: goodfaith_label, dtype: int64"
      ]
     },
     "execution_count": 6,
     "metadata": {},
     "output_type": "execute_result"
    }
   ],
   "source": [
    "labels_df['goodfaith_label'].value_counts()"
   ]
  },
  {
   "cell_type": "markdown",
   "metadata": {},
   "source": [
    "### Get newcomer first edit session, main namespace edits, etc"
   ]
  },
  {
   "cell_type": "code",
   "execution_count": 7,
   "metadata": {
    "collapsed": true
   },
   "outputs": [],
   "source": [
    "def get_main_ns_contribs(df):\n",
    "    return df.query(\"ns==0\")\n",
    "\n",
    "def parse_dt(s):\n",
    "    return datetime.datetime.strptime(s, '%Y-%m-%dT%H:%M:%SZ')\n",
    "\n",
    "def get_first_edit_sessions(df, gap = 60):\n",
    "    \"\"\"\n",
    "    Remove any revisions/rows from df that are not part of an\n",
    "    editor's first edit session\n",
    "    \"\"\"\n",
    "    \n",
    "    user_groups = df.groupby('user_id')\n",
    "    fes_rows = []\n",
    "    \n",
    "    for user_id, user_df in user_groups:\n",
    "        user_rows = list(user_df.T.to_dict().values())\n",
    "        user_rows.sort(key = lambda x: x['timestamp'])\n",
    "        \n",
    "        if len(user_rows) <= 1:\n",
    "            fes_rows += user_rows\n",
    "        else:\n",
    "            session = [user_rows[0]]\n",
    "            t_prev = parse_dt(user_rows[0]['timestamp'])\n",
    "            for x in user_rows[1:]:\n",
    "                t_curr = parse_dt(x['timestamp'])\n",
    "                delta = t_curr - t_prev\n",
    "                \n",
    "                if delta > datetime.timedelta(minutes=gap):\n",
    "                    break\n",
    "                else:\n",
    "                    t_prev = t_curr\n",
    "                    session.append(x)\n",
    "            fes_rows += session\n",
    "    return pd.DataFrame(fes_rows)\n",
    "\n",
    "def get_first_edits(df):\n",
    "    \"\"\"\n",
    "    Collect the first edit after registering\n",
    "    for each editor from df\n",
    "    \"\"\"\n",
    "    return df.sort_values('timestamp').groupby('user_id').first()\n"
   ]
  },
  {
   "cell_type": "code",
   "execution_count": 8,
   "metadata": {
    "collapsed": false
   },
   "outputs": [],
   "source": [
    "# first edit session contrubutions\n",
    "fes_revs_df = get_first_edit_sessions(revisions_df)\n",
    "# main namespace contributions (first 100)\n",
    "ns0_revs_df = get_main_ns_contribs(revisions_df)\n",
    "# first edit session main namespace contrubutions\n",
    "ns0_fes_revs_df = get_first_edit_sessions(ns0_revs_df)\n",
    "# first main namespace edit\n",
    "ns0_fe_revs_df = get_first_edits(ns0_revs_df)"
   ]
  },
  {
   "cell_type": "markdown",
   "metadata": {},
   "source": [
    "# Learning"
   ]
  },
  {
   "cell_type": "code",
   "execution_count": 9,
   "metadata": {
    "collapsed": false
   },
   "outputs": [],
   "source": [
    "from sklearn.base import BaseEstimator, ClassifierMixin\n",
    "import random\n",
    "\n",
    "def get_X_y(revisions_df, model):\n",
    "    \"\"\"\n",
    "    Utility for geting \"features\" and labels for snuggle model.\n",
    "    Takes the a dataframe of scored revisions (revisions_df)\n",
    "    and returns a series of user score lists and user labels\n",
    "    \"\"\"\n",
    "    \n",
    "    user_scores = []\n",
    "    \n",
    "    for user_id, user_df in revisions_df.groupby('user_id'):\n",
    "        scores = list(user_df[model])\n",
    "        goodfaith = user_df.iloc[0]['goodfaith_label']\n",
    "        row = {'scores': scores, 'goodfaith_label': goodfaith, 'user_id' : user_id}\n",
    "        user_scores.append(row)\n",
    "    \n",
    "    df = pd.DataFrame(user_scores).sample(frac=1)\n",
    "    df.index = df.user_id\n",
    "    return df['scores'], df['goodfaith_label']\n",
    "\n",
    "\n",
    "def fit_beta(data):\n",
    "    \"\"\"\n",
    "    Method of moments method for fitting beta distribution\n",
    "    \"\"\"\n",
    "    mean = np.mean(data)\n",
    "    var = np.var(data,ddof=1)\n",
    "    a = mean**2*(1-mean)/var-mean\n",
    "    return a, a*(1-mean)/mean\n",
    "    \n",
    "    \n",
    "class SnuggleScorer(BaseEstimator, ClassifierMixin):\n",
    "\n",
    "    def __init__(self, ):\n",
    "        self.EPSILON = 0.005\n",
    "    \n",
    "    def fit(self, X, y):\n",
    "        \"\"\"\n",
    "        X is a series of lists, where each element in the list\n",
    "        is an ORES edit quality score for a revision for a given editor\n",
    "        \"\"\"\n",
    "        \n",
    "        df = pd.DataFrame({\"goodfaith_label\": y, \"scores\": X})\n",
    "        \n",
    "        df_0 = df.query('goodfaith_label == 0')\n",
    "        self.scores_0 = [c for cs in df_0['scores'] for c in cs]\n",
    "        \n",
    "        df_1 = df.query('goodfaith_label == 1')\n",
    "        self.scores_1 = [c for cs in df_1['scores'] for c in cs]\n",
    "        \n",
    "        self.p_0_prior = float(len(df_0)) / (len(df_0) + len(df_1))\n",
    "        self.p_1_prior = 1 - self.p_0_prior\n",
    "        \n",
    "        self.a0, self.b0 = fit_beta(self.scores_0)\n",
    "        self.a1, self.b1 = fit_beta(self.scores_1)\n",
    "        self.model_0 = beta(self.a0, self.b0)\n",
    "        self.model_1 = beta(self.a1, self.b1)\n",
    "       \n",
    "        return self\n",
    "        \n",
    "    \n",
    "    def beta_likelihood(self, scores, model):\n",
    "        \"\"\"\n",
    "        Straight from https://github.com/wikimedia/analytics-snuggle/blob/master/snuggle/desirability.py#L18-L27\n",
    "        \"\"\"\n",
    "        log_p = log(factorial(len(scores)))\n",
    "        for score in scores:\n",
    "            log_p += log(\n",
    "            model.cdf(min(score + self.EPSILON, 1)) - \n",
    "            model.cdf(max(score - self.EPSILON, 0.005))\n",
    "            )\n",
    "\n",
    "        return exp(log_p)\n",
    "        \n",
    "\n",
    "    def predict_proba_single(self, user_scores):\n",
    "        \"\"\"\n",
    "        Straight from https://github.com/wikimedia/analytics-snuggle/blob/master/snuggle/desirability.py#L30-L34\n",
    "        \"\"\"\n",
    "        \n",
    "        p_0 = self.beta_likelihood(user_scores, self.model_0) * self.p_0_prior\n",
    "        p_1 = self.beta_likelihood(user_scores, self.model_1) * self.p_1_prior\n",
    "        \n",
    "        return p_1 / (p_1 + p_0)\n",
    "    \n",
    "    def predict_proba(self, users):\n",
    "        pred = np.array([self.predict_proba_single(c) for c in users])\n",
    "        return np.vstack([1-pred, pred]).T\n",
    "\n",
    "        \n",
    "    def plot_betas(self):\n",
    "        \n",
    "        \"\"\"\n",
    "        Plot distribution over damaging scores for revisions\n",
    "        in first edit sessions of good-faith and not good-faith newcomers\n",
    "        \"\"\"\n",
    "        f, (ax1, ax2) = plt.subplots(1, 2, sharey=True)\n",
    "        ax1.set_title(\"Good Faith Newbies\")\n",
    "        ax1.hist(self.scores_1, normed = True)\n",
    "        x = np.linspace(0, 1, 100)\n",
    "        rv = beta(self.a1, self.b1)\n",
    "        ax1.plot(x, rv.pdf(x), 'k-', lw=2, label='pdf')\n",
    "        \n",
    "        ax2.set_title(\"Bad Faith Newbies\")\n",
    "        ax2.hist(self.scores_0, normed = True)\n",
    "        x = np.linspace(0, 1, 100)\n",
    "        rv = beta(self.a0, self.b0)\n",
    "        ax2.plot(x, rv.pdf(x), 'k-', lw=2, label='pdf')\n",
    "        \n",
    "        ax1.set_xlabel(\"ORES scores\")\n",
    "        ax2.set_xlabel(\"ORES scores\")\n",
    "        \n",
    "        return f\n"
   ]
  },
  {
   "cell_type": "code",
   "execution_count": 10,
   "metadata": {
    "collapsed": true
   },
   "outputs": [],
   "source": [
    "from sklearn.model_selection import StratifiedKFold\n",
    "from sklearn.model_selection import cross_val_score\n",
    "models = ['reverted', 'goodfaith', 'damaging']\n",
    "CV = StratifiedKFold(n_splits=5)"
   ]
  },
  {
   "cell_type": "code",
   "execution_count": 11,
   "metadata": {
    "collapsed": false
   },
   "outputs": [
    {
     "name": "stdout",
     "output_type": "stream",
     "text": [
      "Score first edit session:\n",
      "\n",
      "reverted ROC: 0.775 (+/- 0.065)\n",
      "goodfaith ROC: 0.780 (+/- 0.033)\n",
      "damaging ROC: 0.793 (+/- 0.035)\n"
     ]
    }
   ],
   "source": [
    "print(\"Score first edit session:\\n\")\n",
    "for model in models:\n",
    "    X, y = get_X_y(ns0_fes_revs_df, model)\n",
    "    scores = cross_val_score(SnuggleScorer(), X, y, cv=CV, scoring = \"roc_auc\")\n",
    "    print(\"%s ROC: %0.3f (+/- %0.3f)\" % (model, scores.mean(), scores.std() ))"
   ]
  },
  {
   "cell_type": "code",
   "execution_count": 12,
   "metadata": {
    "collapsed": false
   },
   "outputs": [
    {
     "name": "stdout",
     "output_type": "stream",
     "text": [
      "Score up to 50 edits: \n",
      "\n",
      "reverted ROC: 0.766 (+/- 0.059)\n",
      "goodfaith ROC: 0.774 (+/- 0.061)\n",
      "damaging ROC: 0.783 (+/- 0.054)\n"
     ]
    }
   ],
   "source": [
    "print(\"Score up to 50 edits: \\n\")\n",
    "for model in models:\n",
    "    X, y = get_X_y(ns0_revs_df, model)\n",
    "    scores = cross_val_score(SnuggleScorer(), X, y, cv=CV, scoring = \"roc_auc\")\n",
    "    print(\"%s ROC: %0.3f (+/- %0.3f)\" % (model, scores.mean(), scores.std()))"
   ]
  },
  {
   "cell_type": "markdown",
   "metadata": {},
   "source": [
    "Observing more user edits beyond the first edit session does not improve the model. "
   ]
  },
  {
   "cell_type": "code",
   "execution_count": 13,
   "metadata": {
    "collapsed": false
   },
   "outputs": [
    {
     "data": {
      "image/png": "[encoded data removed]",
      "text/plain": [
       "<matplotlib.figure.Figure at 0x1171d5a58>"
      ]
     },
     "metadata": {},
     "output_type": "display_data"
    },
    {
     "data": {
      "image/png": "[encoded data removed]",
      "text/plain": [
       "<matplotlib.figure.Figure at 0x10b9bed30>"
      ]
     },
     "metadata": {},
     "output_type": "display_data"
    },
    {
     "data": {
      "image/png": "[encoded data removed]",
      "text/plain": [
       "<matplotlib.figure.Figure at 0x11661a9e8>"
      ]
     },
     "metadata": {},
     "output_type": "display_data"
    }
   ],
   "source": [
    "# plot the beta distributions for each model\n",
    "for model in models:\n",
    "    X, y = get_X_y(ns0_fes_revs_df, model)\n",
    "    f = SnuggleScorer().fit(X, y).plot_betas()\n",
    "    f.suptitle(model,fontsize=12)"
   ]
  },
  {
   "cell_type": "markdown",
   "metadata": {},
   "source": [
    "The Snuggle paper reports an ROC of .88. We will need to figure out where the discrepancy comes from:\n",
    "1. conceptual or implementation error in reproduction\n",
    "2. difference in accuracy/semantics between ORES and STiki scores\n",
    "3. small sample size effect in paper (n=150 vs n=1000)"
   ]
  },
  {
   "cell_type": "markdown",
   "metadata": {},
   "source": [
    "### Random Forest Model\n",
    "\n",
    "The Snuggle model is essentially a naive bayes classifier. Lets try a different learning algorithm."
   ]
  },
  {
   "cell_type": "code",
   "execution_count": 14,
   "metadata": {
    "collapsed": true
   },
   "outputs": [],
   "source": [
    "from time import time\n",
    "from scipy.stats import randint as sp_randint\n",
    "from sklearn.model_selection import GridSearchCV\n",
    "from sklearn.model_selection import RandomizedSearchCV\n",
    "from sklearn.datasets import load_digits\n",
    "from sklearn.ensemble import RandomForestClassifier"
   ]
  },
  {
   "cell_type": "code",
   "execution_count": 15,
   "metadata": {
    "collapsed": false
   },
   "outputs": [],
   "source": [
    "models = ['reverted', 'goodfaith', 'damaging']\n",
    "\n",
    "def get_summary_stat_features(user_id, revisions_df ,models, max_edits = 100):\n",
    "    \"\"\"\n",
    "    Return various summary stats of ORES scores for edit in first edit session\n",
    "    \"\"\"\n",
    "    \n",
    "    feature_sets = []\n",
    "    \n",
    "    for model in models:\n",
    "        scores = list(revisions_df.query(\"user_id==%d\" % user_id)[model][:max_edits])\n",
    "        num_edits = len(scores)\n",
    "        median_score = np.median(scores or [0])\n",
    "        max_score = max(scores or [0])\n",
    "        hist =  np.histogram(scores)[0] / max(1, num_edits)\n",
    "        cdf = np.cumsum(hist)\n",
    "        feature_sets += [np.array([num_edits, median_score, max_score ]), hist, cdf]\n",
    "        \n",
    "    features = np.concatenate(feature_sets)\n",
    "    return pd.Series(features)\n",
    "\n",
    "def get_snuggle_features(revisions_df, models):\n",
    "    features = {}\n",
    "    \n",
    "    for model in models: \n",
    "        X, y = get_X_y(revisions_df, model)\n",
    "        SC = SnuggleScorer().fit(X, y)\n",
    "        features[model+\"_snuggle_score\"] = X.apply(SC.predict_proba_single)\n",
    "    return pd.DataFrame(features)"
   ]
  },
  {
   "cell_type": "code",
   "execution_count": 16,
   "metadata": {
    "collapsed": false
   },
   "outputs": [],
   "source": [
    "df_users = revisions_df[['user_id', 'goodfaith_label']].drop_duplicates()\n",
    "df_users.index = df_users.user_id\n",
    "\n",
    "summary_stat_features = df_users['user_id'].apply(lambda x: get_summary_stat_features(x, ns0_fes_revs_df, models))\n",
    "snuggle_features = get_snuggle_features(ns0_fes_revs_df, models)\n",
    "\n",
    "\n",
    "X = pd.concat([summary_stat_features, snuggle_features ], axis = 1)\n",
    "X['goodfaith_label'] = df_users['goodfaith_label']\n",
    "X = X.dropna()\n",
    "y = X['goodfaith_label']\n",
    "del X['goodfaith_label']"
   ]
  },
  {
   "cell_type": "code",
   "execution_count": 17,
   "metadata": {
    "collapsed": false
   },
   "outputs": [],
   "source": [
    "# build a classifier\n",
    "clf = RandomForestClassifier()\n",
    "\n",
    "\n",
    "# Utility function to report best scores\n",
    "def report(results, n_top=1):\n",
    "    for i in range(1, n_top + 1):\n",
    "        candidates = np.flatnonzero(results['rank_test_score'] == i)\n",
    "        for candidate in candidates:\n",
    "            print(\"Model with rank: {0}\".format(i))\n",
    "            print(\"Mean validation score: {0:.3f} (std: {1:.3f})\".format(\n",
    "                  results['mean_test_score'][candidate],\n",
    "                  2*results['std_test_score'][candidate]))\n",
    "            print(\"Parameters: {0}\".format(results['params'][candidate]))\n",
    "            print(\"\")\n",
    "\n",
    "\n",
    "# specify parameters and distributions to sample from\n",
    "param_dist = {\"max_depth\": [3, 10, None],\n",
    "              \"max_features\": sp_randint(1, 3),\n",
    "              \"min_samples_split\": sp_randint(2, 11),\n",
    "              \"min_samples_leaf\": sp_randint(2, 11),\n",
    "              \"bootstrap\": [True, False],\n",
    "              \"criterion\": [\"gini\", \"entropy\"],\n",
    "              \"n_estimators\": sp_randint(20, 100)}\n",
    "\n",
    "# run randomized search\n",
    "n_iter_search = 30\n",
    "random_search = RandomizedSearchCV(clf,\n",
    "                                   param_distributions=param_dist, \n",
    "                                   n_iter=n_iter_search,\n",
    "                                   scoring = \"roc_auc\", \n",
    "                                   cv = CV)"
   ]
  },
  {
   "cell_type": "code",
   "execution_count": 19,
   "metadata": {
    "collapsed": false
   },
   "outputs": [
    {
     "name": "stdout",
     "output_type": "stream",
     "text": [
      "Model with rank: 1\n",
      "Mean validation score: 0.800 (std: 0.110)\n",
      "Parameters: {'min_samples_split': 3, 'bootstrap': True, 'max_depth': 3, 'max_features': 2, 'min_samples_leaf': 5, 'criterion': 'gini', 'n_estimators': 58}\n",
      "\n"
     ]
    }
   ],
   "source": [
    "# combine all 3 snuggle models\n",
    "snuggle_feature_names = ['damaging_snuggle_score', 'goodfaith_snuggle_score', 'reverted_snuggle_score']\n",
    "random_search.fit(X[snuggle_feature_names], y)\n",
    "report(random_search.cv_results_)"
   ]
  },
  {
   "cell_type": "code",
   "execution_count": 20,
   "metadata": {
    "collapsed": false
   },
   "outputs": [
    {
     "name": "stdout",
     "output_type": "stream",
     "text": [
      "Model with rank: 1\n",
      "Mean validation score: 0.774 (std: 0.158)\n",
      "Parameters: {'min_samples_split': 7, 'bootstrap': True, 'max_depth': 10, 'max_features': 2, 'min_samples_leaf': 4, 'criterion': 'entropy', 'n_estimators': 36}\n",
      "\n"
     ]
    }
   ],
   "source": [
    "# use summary stats from all 3 models\n",
    "random_search.fit(X[X.columns.difference(snuggle_feature_names)], y)\n",
    "report(random_search.cv_results_)"
   ]
  },
  {
   "cell_type": "code",
   "execution_count": 21,
   "metadata": {
    "collapsed": false
   },
   "outputs": [
    {
     "name": "stdout",
     "output_type": "stream",
     "text": [
      "Model with rank: 1\n",
      "Mean validation score: 0.778 (std: 0.139)\n",
      "Parameters: {'min_samples_split': 6, 'bootstrap': True, 'max_depth': None, 'max_features': 2, 'min_samples_leaf': 8, 'criterion': 'gini', 'n_estimators': 39}\n",
      "\n"
     ]
    }
   ],
   "source": [
    "# use summary stats and snuggle features from all 3 models\n",
    "random_search.fit(X, y)\n",
    "report(random_search.cv_results_)"
   ]
  },
  {
   "cell_type": "markdown",
   "metadata": {},
   "source": [
    "It appears as if combining different Snuggle models and adding the features based on summary stats do not meaningfully improve the single Snuggle model trained on ORES damaging scores."
   ]
  },
  {
   "cell_type": "code",
   "execution_count": null,
   "metadata": {
    "collapsed": true
   },
   "outputs": [],
   "source": []
  }
 ],
 "metadata": {
  "anaconda-cloud": {},
  "kernelspec": {
   "display_name": "Python [default]",
   "language": "python",
   "name": "python3"
  },
  "language_info": {
   "codemirror_mode": {
    "name": "ipython",
    "version": 3
   },
   "file_extension": ".py",
   "mimetype": "text/x-python",
   "name": "python",
   "nbconvert_exporter": "python",
   "pygments_lexer": "ipython3",
   "version": "3.5.1"
  }
 },
 "nbformat": 4,
 "nbformat_minor": 0
}
