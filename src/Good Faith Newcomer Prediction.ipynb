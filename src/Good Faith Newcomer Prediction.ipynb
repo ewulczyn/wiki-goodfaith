{
 "cells": [
  {
   "cell_type": "markdown",
   "metadata": {},
   "source": [
    "# Good Faith Newcomer Prediction"
   ]
  },
  {
   "cell_type": "markdown",
   "metadata": {},
   "source": [
    "Aaron has a labeled dataset of newcomers to English Wikipedia. Newcomers are labeled as good-faith or bad-faith based on Wikipedians' judgements of the newcomers' edits in their first edit session. Aaron used STiki scores to construct a bayesian prediction model of good-faith newcomers. In this notebook, I'll try to reproduce his results using ORES scores as well as try out some other modeling strategies."
   ]
  },
  {
   "cell_type": "code",
   "execution_count": 1,
   "metadata": {
    "collapsed": true
   },
   "outputs": [],
   "source": [
    "% matplotlib inline\n",
    "import pandas as pd\n",
    "import urllib\n",
    "import requests\n",
    "from scipy.stats import beta\n",
    "import numpy as np\n",
    "from sklearn.metrics import roc_auc_score\n",
    "import datetime\n",
    "import matplotlib.pyplot as plt \n",
    "import pickle\n",
    "from math import log, factorial, exp\n",
    "import os"
   ]
  },
  {
   "cell_type": "markdown",
   "metadata": {},
   "source": [
    "### Download newcomer quality data"
   ]
  },
  {
   "cell_type": "code",
   "execution_count": 2,
   "metadata": {
    "collapsed": false
   },
   "outputs": [],
   "source": [
    "DATA_URL = \"https://datasets.wikimedia.org/public-datasets/enwiki/rise-and-decline/newbie_quality_sample.tsv\"\n",
    "_ = urllib.request.urlretrieve(DATA_URL, \"newbie_quality_sample.tsv\")"
   ]
  },
  {
   "cell_type": "code",
   "execution_count": 3,
   "metadata": {
    "collapsed": true
   },
   "outputs": [],
   "source": [
    "labels_df = pd.read_csv(\"newbie_quality_sample.tsv\", sep = '\\t')\n",
    "labels_df.index = labels_df.user_id\n",
    "labels_df[\"good_faith\"] = labels_df.category > 2 "
   ]
  },
  {
   "cell_type": "code",
   "execution_count": 4,
   "metadata": {
    "collapsed": false
   },
   "outputs": [
    {
     "data": {
      "text/plain": [
       "True     875\n",
       "False    188\n",
       "Name: good_faith, dtype: int64"
      ]
     },
     "execution_count": 4,
     "metadata": {},
     "output_type": "execute_result"
    }
   ],
   "source": [
    "labels_df[\"good_faith\"].value_counts()"
   ]
  },
  {
   "cell_type": "markdown",
   "metadata": {},
   "source": [
    "### Get early newcomer contribution history"
   ]
  },
  {
   "cell_type": "code",
   "execution_count": 5,
   "metadata": {
    "collapsed": true
   },
   "outputs": [],
   "source": [
    "\n",
    "def get_user_name(uid):\n",
    "        url = 'http://en.wikipedia.org/w/api.php?action=query&format=json&list=users&usprop=&ususerids=%d'\n",
    "        try:\n",
    "            r = requests.get( url % uid).json()\n",
    "            return r[\"query\"]['users'][0]['name']\n",
    "        except:\n",
    "            print(\"Error getting username: \", uid)\n",
    "            return None\n",
    "\n",
    "def get_user_contribs(uname, uclimit = 100):\n",
    "    params = {'action': 'query',\n",
    "           'format': 'json',\n",
    "           'list' : 'usercontribs',\n",
    "           'uclimit': uclimit,\n",
    "           'ucdir': 'newer',\n",
    "           'ucprop': 'oresscores|ids|timestamp|title',\n",
    "           'ucuser': uname\n",
    "          }\n",
    "\n",
    "    try:\n",
    "        r = requests.get('http://en.wikipedia.org/w/api.php', params=params).json()\n",
    "        return r[\"query\"]['usercontribs']\n",
    "    except:\n",
    "        print(\"Error getting contribs: \", uname)\n",
    "        return []"
   ]
  },
  {
   "cell_type": "code",
   "execution_count": 6,
   "metadata": {
    "collapsed": false
   },
   "outputs": [],
   "source": [
    "contributions_pickle = 'newbie_quality_sample_contributions.pkl'\n",
    "\n",
    "if not os.path.isfile(contributions_pickle): \n",
    "    contribs = {}\n",
    "    \n",
    "    for i, uid in enumerate(df.user_id):\n",
    "        if i % 100 ==0:\n",
    "            print(i)\n",
    "            \n",
    "        uname = get_user_name(uid)\n",
    "        if uname is not None:\n",
    "            contribs[uid] = get_user_contribs(uname, uclimit = 100)\n",
    "    \n",
    "    with open(contributions_pickle, 'wb') as fp:\n",
    "        pickle.dump(contribs, fp)\n",
    "else:\n",
    "    with open(contributions_pickle, 'rb') as fp:\n",
    "        contribs = pickle.load(fp)"
   ]
  },
  {
   "cell_type": "code",
   "execution_count": 7,
   "metadata": {
    "collapsed": false
   },
   "outputs": [
    {
     "name": "stdout",
     "output_type": "stream",
     "text": [
      "True     952\n",
      "False    111\n",
      "Name: has_contribs, dtype: int64\n"
     ]
    }
   ],
   "source": [
    "# remove users who have no contributions\n",
    "# TODO: why are there so many? Did they change their usernames?\n",
    "labels_df['has_contribs'] = labels_df['user_id'].apply(lambda x: len(contribs[x]) > 0)\n",
    "print(labels_df['has_contribs'].value_counts())\n",
    "labels_df = labels_df.query(\"has_contribs == 1\")"
   ]
  },
  {
   "cell_type": "markdown",
   "metadata": {},
   "source": [
    "### Get newcomer first edit session, main namespace edits, etc"
   ]
  },
  {
   "cell_type": "code",
   "execution_count": 8,
   "metadata": {
    "collapsed": true
   },
   "outputs": [],
   "source": [
    "def get_main_ns_contribs(contribs):\n",
    "    return {k:[x for x in v if x['ns'] == 0] for k,v in contribs.items()}\n",
    "\n",
    "def parse_dt(s):\n",
    "    return datetime.datetime.strptime(s, '%Y-%m-%dT%H:%M:%SZ')\n",
    "\n",
    "def get_first_edit_session(contribs, gap = 60):\n",
    "    fes_contribs = {}\n",
    "    \n",
    "    for k,v in contribs.items():\n",
    "        if len(v) <= 1:\n",
    "            fes_contribs[k] = v\n",
    "        else:\n",
    "            session = [v[0]]\n",
    "            t_prev = parse_dt(v[0]['timestamp'])\n",
    "            for x in v[1:]:\n",
    "                t_curr = parse_dt(x['timestamp'])\n",
    "                delta = t_curr - t_prev\n",
    "                \n",
    "                if delta > datetime.timedelta(minutes=gap):\n",
    "                    break\n",
    "                else:\n",
    "                    t_prev = t_curr\n",
    "                    session.append(x)\n",
    "            fes_contribs[k] = session\n",
    "    return fes_contribs\n",
    "\n",
    "def get_first_edit(contribs):\n",
    "    return {k:v[:2] for k,v in contribs.items()}\n"
   ]
  },
  {
   "cell_type": "code",
   "execution_count": 9,
   "metadata": {
    "collapsed": false
   },
   "outputs": [],
   "source": [
    "# first edit session contrubutions\n",
    "fes_contribs = get_first_edit_session(contribs)\n",
    "# main namespace contributions (first 100)\n",
    "ns0_contribs = get_main_ns_contribs(contribs)\n",
    "# first edit session main namespace contrubutions\n",
    "ns0_fes_contribs = get_first_edit_session(ns0_contribs)\n",
    "# first main namespace edit\n",
    "ns0_fe_contribs = get_first_edit(ns0_contribs)"
   ]
  },
  {
   "cell_type": "markdown",
   "metadata": {},
   "source": [
    "# Learning"
   ]
  },
  {
   "cell_type": "code",
   "execution_count": 10,
   "metadata": {
    "collapsed": false
   },
   "outputs": [],
   "source": [
    "from sklearn.base import BaseEstimator, ClassifierMixin\n",
    "import random\n",
    "\n",
    "# utility for geting \"features\" and labels for snuggle model\n",
    "def get_X_y(contribs, labels_df):\n",
    "\n",
    "    y = labels_df.sample(frac=1)['good_faith']\n",
    "    X = pd.DataFrame(y)\n",
    "    X['user_id'] = X.index\n",
    "    X['contribs'] = X['user_id'].apply(lambda x: contribs[x])\n",
    "    return X['contribs'], y\n",
    "\n",
    "class SnuggleScorer(BaseEstimator, ClassifierMixin):\n",
    "\n",
    "    def __init__(self, ):\n",
    "        self.EPSILON = 0.005\n",
    "    \n",
    "    def fit(self, X, y):\n",
    "        \n",
    "        df = pd.DataFrame({\"good_faith\":y, \"contribs\":X})\n",
    "        \n",
    "        df_0 = df.query('good_faith == 0')\n",
    "        self.scores_0 = [c['oresscores']['damaging']['true'] for cs in df_0['contribs'] for c in cs]\n",
    "        \n",
    "        df_1 = df.query('good_faith == 1')\n",
    "        self.scores_1 = [c['oresscores']['damaging']['true'] for cs in df_1['contribs'] for c in cs]\n",
    "        \n",
    "        self.p_0_prior = float(len(df_0)) / (len(df_0) + len(df_1))\n",
    "        self.p_1_prior = 1 - self.p_0_prior\n",
    "        \n",
    "        self.a0, self.b0, _, _ = beta.fit(self.scores_0)\n",
    "        self.a1, self.b1, _, _ = beta.fit(self.scores_1)\n",
    "        self.model_0 = beta(self.a0, self.b0)\n",
    "        self.model_1 = beta(self.a1, self.b1)\n",
    "        return self\n",
    "        \n",
    "    \n",
    "    def beta_likelihood(self, scores, model):\n",
    "        \"\"\"\n",
    "        Straight from https://github.com/wikimedia/analytics-snuggle/blob/master/snuggle/desirability.py#L18-L27\n",
    "        \"\"\"\n",
    "        log_p = log(factorial(len(scores)))\n",
    "        for score in scores:\n",
    "            log_p += log(\n",
    "            model.cdf(min(score + self.EPSILON, 1)) - \n",
    "            model.cdf(max(score - self.EPSILON, 0.005))\n",
    "            )\n",
    "\n",
    "        return exp(log_p)\n",
    "        \n",
    "\n",
    "    def predict_proba_single(self, single_contribs):\n",
    "        \"\"\"\n",
    "        Straight from https://github.com/wikimedia/analytics-snuggle/blob/master/snuggle/desirability.py#L30-L34\n",
    "        \"\"\"\n",
    "        scores =[c['oresscores']['damaging']['true'] for c in single_contribs]\n",
    "        \n",
    "        p_0 = self.beta_likelihood(scores, self.model_0) * self.p_0_prior\n",
    "        p_1 = self.beta_likelihood(scores, self.model_1) * self.p_1_prior\n",
    "        \n",
    "        return p_1 / (p_1 + p_0)\n",
    "    \n",
    "    def predict_proba(self, contribs):\n",
    "        pred = np.array([self.predict_proba_single(c) for c in contribs])\n",
    "        return np.vstack([1-pred, pred]).T\n",
    "\n",
    "    \n",
    "    def plot_betas(self):\n",
    "        \n",
    "        \"\"\"\n",
    "        Plot distribution over damaging scores for revisions\n",
    "        in first edit sessions of good-faith and not good-faith newcomers\n",
    "        \"\"\"\n",
    "        f, (ax1, ax2) = plt.subplots(1, 2, sharey=True)\n",
    "        ax1.set_title(\"Good Faith Newbies\")\n",
    "        ax1.hist(self.scores_1, normed = True)\n",
    "        x = np.linspace(0, 1, 100)\n",
    "        rv = beta(self.a1, self.b1)\n",
    "        ax1.plot(x, rv.pdf(x), 'k-', lw=2, label='pdf')\n",
    "        \n",
    "        ax2.set_title(\"Bad Faith Newbies\")\n",
    "        ax2.hist(self.scores_0, normed = True)\n",
    "        x = np.linspace(0, 1, 100)\n",
    "        rv = beta(self.a0, self.b0)\n",
    "        ax2.plot(x, rv.pdf(x), 'k-', lw=2, label='pdf')\n",
    "        \n",
    "        ax1.set_xlabel(\"P(edit is damaging)\")\n",
    "        ax2.set_xlabel(\"P(edit is damaging)\")\n"
   ]
  },
  {
   "cell_type": "code",
   "execution_count": 24,
   "metadata": {
    "collapsed": false
   },
   "outputs": [
    {
     "name": "stdout",
     "output_type": "stream",
     "text": [
      "Score first edit session:\n"
     ]
    },
    {
     "name": "stderr",
     "output_type": "stream",
     "text": [
      "/Users/ellerywulczyn/miniconda3/lib/python3.5/site-packages/scipy/stats/_continuous_distns.py:407: RuntimeWarning: invalid value encountered in sqrt\n",
      "  sk = 2*(b-a)*sqrt(a + b + 1) / (a + b + 2) / sqrt(a*b)\n"
     ]
    },
    {
     "name": "stdout",
     "output_type": "stream",
     "text": [
      "ROC: 0.769 (+/- 0.097)\n"
     ]
    }
   ],
   "source": [
    "from sklearn.model_selection import StratifiedKFold\n",
    "from sklearn.model_selection import cross_val_score\n",
    "\n",
    "print(\"Score first edit session:\")\n",
    "X, y = get_X_y(ns0_fes_contribs, labels_df)\n",
    "scores = cross_val_score(SnuggleScorer(), X, y, cv=StratifiedKFold(n_splits=10), scoring = \"roc_auc\")\n",
    "print(\"ROC: %0.3f (+/- %0.3f)\" % (scores.mean(), scores.std() * 2))"
   ]
  },
  {
   "cell_type": "code",
   "execution_count": 12,
   "metadata": {
    "collapsed": false
   },
   "outputs": [
    {
     "name": "stdout",
     "output_type": "stream",
     "text": [
      "Score up to 100 edits:\n"
     ]
    },
    {
     "name": "stderr",
     "output_type": "stream",
     "text": [
      "/Users/ellerywulczyn/miniconda3/lib/python3.5/site-packages/scipy/stats/_continuous_distns.py:407: RuntimeWarning: invalid value encountered in sqrt\n",
      "  sk = 2*(b-a)*sqrt(a + b + 1) / (a + b + 2) / sqrt(a*b)\n"
     ]
    },
    {
     "name": "stdout",
     "output_type": "stream",
     "text": [
      "ROC: 0.721 (+/- 0.163)\n"
     ]
    }
   ],
   "source": [
    "print(\"Score up to 100 edits:\")\n",
    "X, y = get_X_y(ns0_contribs, labels_df)\n",
    "scores = cross_val_score(SnuggleScorer(), X, y, cv=StratifiedKFold(n_splits=10), scoring = \"roc_auc\")\n",
    "print(\"ROC: %0.3f (+/- %0.3f)\" % (scores.mean(), scores.std() * 2))"
   ]
  },
  {
   "cell_type": "markdown",
   "metadata": {},
   "source": [
    "Observing more user edits does not improve the model?"
   ]
  },
  {
   "cell_type": "code",
   "execution_count": 13,
   "metadata": {
    "collapsed": false
   },
   "outputs": [
    {
     "name": "stderr",
     "output_type": "stream",
     "text": [
      "/Users/ellerywulczyn/miniconda3/lib/python3.5/site-packages/scipy/stats/_continuous_distns.py:407: RuntimeWarning: invalid value encountered in sqrt\n",
      "  sk = 2*(b-a)*sqrt(a + b + 1) / (a + b + 2) / sqrt(a*b)\n"
     ]
    },
    {
     "data": {
      "image/png": "[encoded data removed]",
      "text/plain": [
       "<matplotlib.figure.Figure at 0x11baad8d0>"
      ]
     },
     "metadata": {},
     "output_type": "display_data"
    }
   ],
   "source": [
    "# fit model on all data and check betas\n",
    "SC = SnuggleScorer()\n",
    "X, y = get_X_y(ns0_fes_contribs, labels_df)\n",
    "SC.fit(X, y).plot_betas()"
   ]
  },
  {
   "cell_type": "markdown",
   "metadata": {},
   "source": [
    "The Snuggle paper reports an ROC of .88. We will need to figure out where the discrepancy comes from:\n",
    "1. concecptual or implementation error in reproduction\n",
    "2. difference in accuracy/semantics between ORES and STiki scores\n",
    "3. small sample size effect in paper (n=150 vs n=1000)"
   ]
  },
  {
   "cell_type": "markdown",
   "metadata": {},
   "source": [
    "### Random Forest Model\n",
    "\n",
    "The Snuggle model is essentially a naive bayes classifier. Lets try a different learning algorithm."
   ]
  },
  {
   "cell_type": "code",
   "execution_count": 14,
   "metadata": {
    "collapsed": true
   },
   "outputs": [],
   "source": [
    "from time import time\n",
    "from scipy.stats import randint as sp_randint\n",
    "from sklearn.model_selection import GridSearchCV\n",
    "from sklearn.model_selection import RandomizedSearchCV\n",
    "from sklearn.datasets import load_digits\n",
    "from sklearn.ensemble import RandomForestClassifier\n"
   ]
  },
  {
   "cell_type": "code",
   "execution_count": 15,
   "metadata": {
    "collapsed": true
   },
   "outputs": [],
   "source": [
    "def get_features(user_id, contributions, max_edits = 10):\n",
    "    \"\"\"\n",
    "    Return various summary stats of ORES scores for edit in first edit session\n",
    "    \"\"\"\n",
    "    scores = [c['oresscores']['damaging']['true'] for c in contributions[user_id]][:max_edits]\n",
    "    num_edits = len(scores)\n",
    "    median_score = np.median(scores or [0])\n",
    "    max_score = max(scores or [0])\n",
    "    hist =  np.histogram(scores)[0] / max(1, num_edits)\n",
    "    cdf = np.cumsum(hist)\n",
    "    features = np.concatenate([np.array([num_edits, median_score, max_score ]), hist, cdf])\n",
    "    return pd.Series(features)"
   ]
  },
  {
   "cell_type": "code",
   "execution_count": 20,
   "metadata": {
    "collapsed": false
   },
   "outputs": [],
   "source": [
    "# use up to 10 first edits\n",
    "X = labels_df['user_id'].apply(lambda x: get_features(x, ns0_contribs, max_edits = 10))\n",
    "# apply snuggle to first edit session\n",
    "X['snuggle'] = labels_df['user_id'].apply(lambda x: SC.predict_proba_single(ns0_fes_contribs.get(x, [])))\n",
    "y = labels_df['good_faith']"
   ]
  },
  {
   "cell_type": "code",
   "execution_count": 22,
   "metadata": {
    "collapsed": false
   },
   "outputs": [
    {
     "name": "stdout",
     "output_type": "stream",
     "text": [
      "RandomizedSearchCV took 8.66 seconds for 30 candidates parameter settings.\n",
      "Model with rank: 1\n",
      "Mean validation score: 0.812 (std: 0.079)\n",
      "Parameters: {'max_depth': 3, 'criterion': 'gini', 'min_samples_split': 8, 'min_samples_leaf': 3, 'bootstrap': True, 'max_features': 5, 'n_estimators': 51}\n",
      "\n",
      "Model with rank: 2\n",
      "Mean validation score: 0.810 (std: 0.063)\n",
      "Parameters: {'max_depth': 3, 'criterion': 'entropy', 'min_samples_split': 7, 'min_samples_leaf': 4, 'bootstrap': False, 'max_features': 7, 'n_estimators': 54}\n",
      "\n",
      "Model with rank: 3\n",
      "Mean validation score: 0.808 (std: 0.085)\n",
      "Parameters: {'max_depth': 3, 'criterion': 'gini', 'min_samples_split': 3, 'min_samples_leaf': 8, 'bootstrap': False, 'max_features': 10, 'n_estimators': 96}\n",
      "\n"
     ]
    }
   ],
   "source": [
    "# build a classifier\n",
    "clf = RandomForestClassifier()\n",
    "\n",
    "\n",
    "# Utility function to report best scores\n",
    "def report(results, n_top=3):\n",
    "    for i in range(1, n_top + 1):\n",
    "        candidates = np.flatnonzero(results['rank_test_score'] == i)\n",
    "        for candidate in candidates:\n",
    "            print(\"Model with rank: {0}\".format(i))\n",
    "            print(\"Mean validation score: {0:.3f} (std: {1:.3f})\".format(\n",
    "                  results['mean_test_score'][candidate],\n",
    "                  2*results['std_test_score'][candidate]))\n",
    "            print(\"Parameters: {0}\".format(results['params'][candidate]))\n",
    "            print(\"\")\n",
    "\n",
    "\n",
    "# specify parameters and distributions to sample from\n",
    "param_dist = {\"max_depth\": [3, 10, None],\n",
    "              \"max_features\": sp_randint(1, 11),\n",
    "              \"min_samples_split\": sp_randint(2, 11),\n",
    "              \"min_samples_leaf\": sp_randint(2, 11),\n",
    "              \"bootstrap\": [True, False],\n",
    "              \"criterion\": [\"gini\", \"entropy\"],\n",
    "              \"n_estimators\": sp_randint(20, 100)}\n",
    "\n",
    "# run randomized search\n",
    "n_iter_search = 30\n",
    "random_search = RandomizedSearchCV(clf,\n",
    "                                   param_distributions=param_dist, \n",
    "                                   n_iter=n_iter_search,\n",
    "                                   scoring = \"roc_auc\")\n",
    "\n",
    "start = time()\n",
    "random_search.fit(X, y)\n",
    "print(\"RandomizedSearchCV took %.2f seconds for %d candidates\"\n",
    "      \" parameter settings.\" % ((time() - start), n_iter_search))\n",
    "report(random_search.cv_results_)\n"
   ]
  },
  {
   "cell_type": "code",
   "execution_count": null,
   "metadata": {
    "collapsed": true
   },
   "outputs": [],
   "source": []
  }
 ],
 "metadata": {
  "anaconda-cloud": {},
  "kernelspec": {
   "display_name": "Python [default]",
   "language": "python",
   "name": "python3"
  },
  "language_info": {
   "codemirror_mode": {
    "name": "ipython",
    "version": 3
   },
   "file_extension": ".py",
   "mimetype": "text/x-python",
   "name": "python",
   "nbconvert_exporter": "python",
   "pygments_lexer": "ipython3",
   "version": "3.5.1"
  }
 },
 "nbformat": 4,
 "nbformat_minor": 0
}
